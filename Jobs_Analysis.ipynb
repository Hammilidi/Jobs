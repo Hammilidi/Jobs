{
 "cells": [
  {
   "cell_type": "code",
   "execution_count": 21,
   "id": "ffa2cca8",
   "metadata": {},
   "outputs": [
    {
     "name": "stdout",
     "output_type": "stream",
     "text": [
      "Requirement already satisfied: tabulate in c:\\users\\youcode\\anaconda3\\lib\\site-packages (0.8.10)\n"
     ]
    }
   ],
   "source": [
    "!pip install tabulate"
   ]
  },
  {
   "cell_type": "code",
   "execution_count": 1,
   "id": "44f25887",
   "metadata": {},
   "outputs": [],
   "source": [
    "import pandas as pd\n",
    "import numpy as np\n",
    "import matplotlib.pyplot as plt\n",
    "import seaborn as sns"
   ]
  },
  {
   "cell_type": "markdown",
   "id": "34b8a0cb",
   "metadata": {},
   "source": [
    "# Exploration & Compréhension"
   ]
  },
  {
   "cell_type": "code",
   "execution_count": 24,
   "id": "baca79bd",
   "metadata": {},
   "outputs": [
    {
     "data": {
      "text/html": [
       "<div>\n",
       "<style scoped>\n",
       "    .dataframe tbody tr th:only-of-type {\n",
       "        vertical-align: middle;\n",
       "    }\n",
       "\n",
       "    .dataframe tbody tr th {\n",
       "        vertical-align: top;\n",
       "    }\n",
       "\n",
       "    .dataframe thead th {\n",
       "        text-align: right;\n",
       "    }\n",
       "</style>\n",
       "<table border=\"1\" class=\"dataframe\">\n",
       "  <thead>\n",
       "    <tr style=\"text-align: right;\">\n",
       "      <th></th>\n",
       "      <th>Company</th>\n",
       "      <th>Job Title</th>\n",
       "      <th>Location</th>\n",
       "      <th>Job Type</th>\n",
       "      <th>Experience level</th>\n",
       "      <th>Salary</th>\n",
       "      <th>Requirment of the company</th>\n",
       "      <th>Facilities</th>\n",
       "    </tr>\n",
       "  </thead>\n",
       "  <tbody>\n",
       "    <tr>\n",
       "      <th>0</th>\n",
       "      <td>SGS</td>\n",
       "      <td>Clinical Data Analyst</td>\n",
       "      <td>Richardson, TX, United States</td>\n",
       "      <td>Full Time</td>\n",
       "      <td>Entry-level</td>\n",
       "      <td>48K+ *</td>\n",
       "      <td>Computer Science,Data quality,Genetics,Mathema...</td>\n",
       "      <td>,,,,</td>\n",
       "    </tr>\n",
       "    <tr>\n",
       "      <th>1</th>\n",
       "      <td>Ocorian</td>\n",
       "      <td>AML/CFT &amp; Data Analyst</td>\n",
       "      <td>Ebène, Mauritius</td>\n",
       "      <td>Full Time</td>\n",
       "      <td>Entry-level</td>\n",
       "      <td>48K+ *</td>\n",
       "      <td>Agile,Data management,Finance,Security,,</td>\n",
       "      <td>,,,,</td>\n",
       "    </tr>\n",
       "    <tr>\n",
       "      <th>2</th>\n",
       "      <td>Cricut</td>\n",
       "      <td>Machine Learning Engineer</td>\n",
       "      <td>South Jordan, UT, United States</td>\n",
       "      <td>Full Time</td>\n",
       "      <td>NaN</td>\n",
       "      <td>90K+ *</td>\n",
       "      <td>Agile,Architecture,AWS,Computer Science,Comput...</td>\n",
       "      <td>Career development,,,,</td>\n",
       "    </tr>\n",
       "    <tr>\n",
       "      <th>3</th>\n",
       "      <td>Bosch Group</td>\n",
       "      <td>Application Developer &amp; Data Analyst</td>\n",
       "      <td>Nonantola, Italy</td>\n",
       "      <td>Full Time</td>\n",
       "      <td>Entry-level</td>\n",
       "      <td>48K+ *</td>\n",
       "      <td>Engineering,Industrial,Oracle,Power BI,R,R&amp;D</td>\n",
       "      <td>,,,,</td>\n",
       "    </tr>\n",
       "    <tr>\n",
       "      <th>4</th>\n",
       "      <td>Publicis Groupe</td>\n",
       "      <td>Data Engineer Full time (Public Sector) USA</td>\n",
       "      <td>Arlington, VA, United States</td>\n",
       "      <td>Full Time</td>\n",
       "      <td>Mid-level</td>\n",
       "      <td>108K+</td>\n",
       "      <td>AWS,Azure,Computer Science,Consulting,Dataflow...</td>\n",
       "      <td>Flex hours,Flex vacation,Parental leave,Unlimi...</td>\n",
       "    </tr>\n",
       "  </tbody>\n",
       "</table>\n",
       "</div>"
      ],
      "text/plain": [
       "           Company                                    Job Title  \\\n",
       "0              SGS                        Clinical Data Analyst   \n",
       "1          Ocorian                       AML/CFT & Data Analyst   \n",
       "2           Cricut                    Machine Learning Engineer   \n",
       "3      Bosch Group         Application Developer & Data Analyst   \n",
       "4  Publicis Groupe  Data Engineer Full time (Public Sector) USA   \n",
       "\n",
       "                          Location   Job Type Experience level   Salary  \\\n",
       "0    Richardson, TX, United States  Full Time      Entry-level   48K+ *   \n",
       "1                 Ebène, Mauritius  Full Time      Entry-level   48K+ *   \n",
       "2  South Jordan, UT, United States  Full Time              NaN   90K+ *   \n",
       "3                 Nonantola, Italy  Full Time      Entry-level   48K+ *   \n",
       "4     Arlington, VA, United States  Full Time        Mid-level    108K+   \n",
       "\n",
       "                          Requirment of the company   \\\n",
       "0  Computer Science,Data quality,Genetics,Mathema...   \n",
       "1           Agile,Data management,Finance,Security,,   \n",
       "2  Agile,Architecture,AWS,Computer Science,Comput...   \n",
       "3       Engineering,Industrial,Oracle,Power BI,R,R&D   \n",
       "4  AWS,Azure,Computer Science,Consulting,Dataflow...   \n",
       "\n",
       "                                          Facilities  \n",
       "0                                               ,,,,  \n",
       "1                                               ,,,,  \n",
       "2                             Career development,,,,  \n",
       "3                                               ,,,,  \n",
       "4  Flex hours,Flex vacation,Parental leave,Unlimi...  "
      ]
     },
     "execution_count": 24,
     "metadata": {},
     "output_type": "execute_result"
    }
   ],
   "source": [
    "# data = pd.read_csv(\"jobs.csv\", encoding=\"latin-1\")\n",
    "data.head()\n"
   ]
  },
  {
   "cell_type": "code",
   "execution_count": 7,
   "id": "0217b658",
   "metadata": {},
   "outputs": [
    {
     "data": {
      "text/plain": [
       "(3198, 8)"
      ]
     },
     "execution_count": 7,
     "metadata": {},
     "output_type": "execute_result"
    }
   ],
   "source": [
    "data.shape"
   ]
  },
  {
   "cell_type": "markdown",
   "id": "340d557e",
   "metadata": {},
   "source": [
    "Nous avons un dataset de 3198 entrées et 8 champs"
   ]
  },
  {
   "cell_type": "code",
   "execution_count": 6,
   "id": "ba90b6fd",
   "metadata": {},
   "outputs": [
    {
     "data": {
      "text/plain": [
       "Company                       object\n",
       "Job Title                     object\n",
       "Location                      object\n",
       "Job Type                      object\n",
       "Experience level              object\n",
       "Salary                        object\n",
       "Requirment of the company     object\n",
       "Facilities                    object\n",
       "dtype: object"
      ]
     },
     "execution_count": 6,
     "metadata": {},
     "output_type": "execute_result"
    }
   ],
   "source": [
    "data.dtypes"
   ]
  },
  {
   "cell_type": "markdown",
   "id": "85714437",
   "metadata": {},
   "source": [
    "Toutes les variables sont des objets. Bon à savoir !"
   ]
  },
  {
   "cell_type": "code",
   "execution_count": 9,
   "id": "0061930f",
   "metadata": {},
   "outputs": [
    {
     "name": "stdout",
     "output_type": "stream",
     "text": [
      "<class 'pandas.core.frame.DataFrame'>\n",
      "RangeIndex: 3198 entries, 0 to 3197\n",
      "Data columns (total 8 columns):\n",
      " #   Column                      Non-Null Count  Dtype \n",
      "---  ------                      --------------  ----- \n",
      " 0   Company                     3197 non-null   object\n",
      " 1   Job Title                   3197 non-null   object\n",
      " 2   Location                    3197 non-null   object\n",
      " 3   Job Type                    3197 non-null   object\n",
      " 4   Experience level            2962 non-null   object\n",
      " 5   Salary                      3009 non-null   object\n",
      " 6   Requirment of the company   3198 non-null   object\n",
      " 7   Facilities                  3198 non-null   object\n",
      "dtypes: object(8)\n",
      "memory usage: 200.0+ KB\n"
     ]
    }
   ],
   "source": [
    "data.info()"
   ]
  },
  {
   "cell_type": "markdown",
   "id": "845912c0",
   "metadata": {},
   "source": [
    "- Compréhension & Analyse: Nous avons 3198 entrées. \n",
    "    - Seules les colonnes \"Facilities\" et \"Requirment of company\" sont toutes bien remplies\n",
    "    - Les colonnes \"Company\", \"Job Title\", \"Location\" ont seulement une valeur manquante\n",
    "    - La colonne \"Experience level\" a 2962 entrées sur 3198. Donc près de 93% de valeurs remplies et 7% de valeurs manquantes \n",
    "    - La colonne \"Salary\" a 3009 entrées sur 3198. Donc 94% de valeurs remplies et 6% de valeurs manquantes\n",
    "    "
   ]
  },
  {
   "cell_type": "code",
   "execution_count": 19,
   "id": "db82005d",
   "metadata": {},
   "outputs": [
    {
     "data": {
      "text/html": [
       "<div>\n",
       "<style scoped>\n",
       "    .dataframe tbody tr th:only-of-type {\n",
       "        vertical-align: middle;\n",
       "    }\n",
       "\n",
       "    .dataframe tbody tr th {\n",
       "        vertical-align: top;\n",
       "    }\n",
       "\n",
       "    .dataframe thead th {\n",
       "        text-align: right;\n",
       "    }\n",
       "</style>\n",
       "<table border=\"1\" class=\"dataframe\">\n",
       "  <thead>\n",
       "    <tr style=\"text-align: right;\">\n",
       "      <th></th>\n",
       "      <th>Company</th>\n",
       "      <th>Job Title</th>\n",
       "      <th>Location</th>\n",
       "      <th>Job Type</th>\n",
       "      <th>Experience level</th>\n",
       "      <th>Salary</th>\n",
       "      <th>Requirment of the company</th>\n",
       "      <th>Facilities</th>\n",
       "    </tr>\n",
       "  </thead>\n",
       "  <tbody>\n",
       "    <tr>\n",
       "      <th>count</th>\n",
       "      <td>3197</td>\n",
       "      <td>3197</td>\n",
       "      <td>3197</td>\n",
       "      <td>3197</td>\n",
       "      <td>2962</td>\n",
       "      <td>3009</td>\n",
       "      <td>3198</td>\n",
       "      <td>3198</td>\n",
       "    </tr>\n",
       "    <tr>\n",
       "      <th>unique</th>\n",
       "      <td>1106</td>\n",
       "      <td>2138</td>\n",
       "      <td>1117</td>\n",
       "      <td>3</td>\n",
       "      <td>4</td>\n",
       "      <td>218</td>\n",
       "      <td>2600</td>\n",
       "      <td>777</td>\n",
       "    </tr>\n",
       "    <tr>\n",
       "      <th>top</th>\n",
       "      <td>Publicis Groupe</td>\n",
       "      <td>Data Engineer</td>\n",
       "      <td>Bengaluru, India</td>\n",
       "      <td>Full Time</td>\n",
       "      <td>Senior-level</td>\n",
       "      <td>115K+ *</td>\n",
       "      <td>Big Data,Business Intelligence,Data analysis,E...</td>\n",
       "      <td>,,,,</td>\n",
       "    </tr>\n",
       "    <tr>\n",
       "      <th>freq</th>\n",
       "      <td>126</td>\n",
       "      <td>105</td>\n",
       "      <td>90</td>\n",
       "      <td>3116</td>\n",
       "      <td>1876</td>\n",
       "      <td>253</td>\n",
       "      <td>12</td>\n",
       "      <td>542</td>\n",
       "    </tr>\n",
       "  </tbody>\n",
       "</table>\n",
       "</div>"
      ],
      "text/plain": [
       "                Company      Job Title          Location   Job Type  \\\n",
       "count              3197           3197              3197       3197   \n",
       "unique             1106           2138              1117          3   \n",
       "top     Publicis Groupe  Data Engineer  Bengaluru, India  Full Time   \n",
       "freq                126            105                90       3116   \n",
       "\n",
       "       Experience level    Salary  \\\n",
       "count              2962      3009   \n",
       "unique                4       218   \n",
       "top        Senior-level   115K+ *   \n",
       "freq               1876       253   \n",
       "\n",
       "                               Requirment of the company  Facilities  \n",
       "count                                                3198       3198  \n",
       "unique                                               2600        777  \n",
       "top     Big Data,Business Intelligence,Data analysis,E...       ,,,,  \n",
       "freq                                                   12        542  "
      ]
     },
     "execution_count": 19,
     "metadata": {},
     "output_type": "execute_result"
    }
   ],
   "source": [
    "# Afficher un résumé statistique du DataFrame\n",
    "summary = data.describe(include='all')\n",
    "summary\n"
   ]
  },
  {
   "cell_type": "markdown",
   "id": "c68537c0",
   "metadata": {},
   "source": [
    "- \"count\": Cela indique le nombre total de valeurs non manquantes (non nulles) dans chaque colonne du DataFrame. Par exemple, il y a 3197 valeurs non manquantes pour la colonne \"Company\", \"Job Title\", \"Location\", etc.\n",
    "\n",
    "- \"unique\": Cela représente le nombre d'éléments uniques dans chaque colonne du DataFrame. Par exemple, il y a 1106 entreprises uniques, 2138 titres de poste uniques, 1117 emplacements uniques, etc.\n",
    "\n",
    "- \"top\": Cela indique la valeur la plus fréquente (top) dans chaque colonne. Par exemple, \"Publicis Groupe\" est l'entreprise la plus fréquente dans la colonne \"Company\", \"Data Engineer\" est le titre de poste le plus fréquent, \"Bengaluru, India\" est le lieu le plus fréquent, etc.\n",
    "\n",
    "- \"freq\": Cela représente la fréquence (nombre d'occurrences) de la valeur la plus fréquente (top) dans chaque colonne. Par exemple, \"Publicis Groupe\" apparaît 126 fois dans la colonne \"Company\", \"Data Engineer\" apparaît 105 fois dans la colonne \"Job Title\", \"Bengaluru, India\" apparaît 90 fois dans la colonne \"Location\", etc.\n"
   ]
  },
  {
   "cell_type": "markdown",
   "id": "6a2c1427",
   "metadata": {},
   "source": [
    "Une remarque: Nous n'avons pas de valeurs numériques !"
   ]
  },
  {
   "cell_type": "markdown",
   "id": "9257ae50",
   "metadata": {},
   "source": [
    "# Data Cleaning"
   ]
  },
  {
   "cell_type": "markdown",
   "id": "6e41229e",
   "metadata": {},
   "source": [
    "Cette étape consiste à nettoyer les données en corrigeant les erreurs, en supprimant les impuretés pour ne conserver que les valeurs propres, correctes, utiles et pertinentes. Nous serons amenés à:\n",
    "- Gérer les doublons\n",
    "- Gérer les valeurs manquantes\n",
    "- Gérer les valeurs abérrantes et atypiques"
   ]
  },
  {
   "cell_type": "markdown",
   "id": "ed577612",
   "metadata": {},
   "source": [
    "### Gestion des doublons"
   ]
  },
  {
   "cell_type": "code",
   "execution_count": 26,
   "id": "a1f3818a",
   "metadata": {},
   "outputs": [
    {
     "data": {
      "text/plain": [
       "202"
      ]
     },
     "execution_count": 26,
     "metadata": {},
     "output_type": "execute_result"
    }
   ],
   "source": [
    "data.duplicated().sum()"
   ]
  },
  {
   "cell_type": "markdown",
   "id": "a7f59bc6",
   "metadata": {},
   "source": [
    "Nous avons 202 doublons. Nous allons les supprimer pour éviter les conflits de données."
   ]
  },
  {
   "cell_type": "code",
   "execution_count": 29,
   "id": "d70564da",
   "metadata": {},
   "outputs": [
    {
     "data": {
      "text/plain": [
       "0"
      ]
     },
     "execution_count": 29,
     "metadata": {},
     "output_type": "execute_result"
    }
   ],
   "source": [
    "data.drop_duplicates(inplace = True)\n",
    "data.duplicated().sum()"
   ]
  },
  {
   "cell_type": "markdown",
   "id": "2aca215d",
   "metadata": {},
   "source": [
    "Les doublons ont bien été supprimés"
   ]
  },
  {
   "cell_type": "markdown",
   "id": "acde5849",
   "metadata": {},
   "source": [
    "### Gestion des valeurs manquantes"
   ]
  },
  {
   "cell_type": "code",
   "execution_count": 32,
   "id": "b10bfd9c",
   "metadata": {},
   "outputs": [
    {
     "name": "stdout",
     "output_type": "stream",
     "text": [
      "<class 'pandas.core.frame.DataFrame'>\n",
      "Int64Index: 2996 entries, 0 to 3196\n",
      "Data columns (total 8 columns):\n",
      " #   Column                      Non-Null Count  Dtype \n",
      "---  ------                      --------------  ----- \n",
      " 0   Company                     2995 non-null   object\n",
      " 1   Job Title                   2995 non-null   object\n",
      " 2   Location                    2995 non-null   object\n",
      " 3   Job Type                    2995 non-null   object\n",
      " 4   Experience level            2768 non-null   object\n",
      " 5   Salary                      2824 non-null   object\n",
      " 6   Requirment of the company   2996 non-null   object\n",
      " 7   Facilities                  2996 non-null   object\n",
      "dtypes: object(8)\n",
      "memory usage: 210.7+ KB\n"
     ]
    }
   ],
   "source": [
    "data.info()"
   ]
  },
  {
   "cell_type": "markdown",
   "id": "72e7d4e4",
   "metadata": {},
   "source": [
    "Nous avons à présent 2996 entrées.\n",
    "- Les colonnes \"Company\", \"Job Title\", \"Location\", \"Job Type\" ont 2995 entrées donc ont 01 valeur manquante.\n",
    "- La colonne \"Experience level\" possède 2768 entrées donc elle possède 228 valeurs manquantes soit environ 7,6% \n",
    "- La colonne \"Salary\" a 2824 entrées. Elle a donc 172 valeurs manquantes soit 5,7% "
   ]
  },
  {
   "cell_type": "markdown",
   "id": "58e82c16",
   "metadata": {},
   "source": [
    "### Colonne Company"
   ]
  },
  {
   "cell_type": "code",
   "execution_count": 38,
   "id": "ebd36dc6",
   "metadata": {},
   "outputs": [
    {
     "name": "stdout",
     "output_type": "stream",
     "text": [
      "Number of missing values in 'Company' column: 1\n"
     ]
    }
   ],
   "source": [
    "missing_values_count = data[\"Company\"].isna().sum()\n",
    "print(\"Number of missing values in 'Company' column:\", missing_values_count)\n"
   ]
  },
  {
   "cell_type": "code",
   "execution_count": 39,
   "id": "1e03df09",
   "metadata": {},
   "outputs": [
    {
     "data": {
      "text/html": [
       "<div>\n",
       "<style scoped>\n",
       "    .dataframe tbody tr th:only-of-type {\n",
       "        vertical-align: middle;\n",
       "    }\n",
       "\n",
       "    .dataframe tbody tr th {\n",
       "        vertical-align: top;\n",
       "    }\n",
       "\n",
       "    .dataframe thead th {\n",
       "        text-align: right;\n",
       "    }\n",
       "</style>\n",
       "<table border=\"1\" class=\"dataframe\">\n",
       "  <thead>\n",
       "    <tr style=\"text-align: right;\">\n",
       "      <th></th>\n",
       "      <th>Company</th>\n",
       "      <th>Job Title</th>\n",
       "      <th>Location</th>\n",
       "      <th>Job Type</th>\n",
       "      <th>Experience level</th>\n",
       "      <th>Salary</th>\n",
       "      <th>Requirment of the company</th>\n",
       "      <th>Facilities</th>\n",
       "    </tr>\n",
       "  </thead>\n",
       "  <tbody>\n",
       "    <tr>\n",
       "      <th>797</th>\n",
       "      <td>NaN</td>\n",
       "      <td>NaN</td>\n",
       "      <td>NaN</td>\n",
       "      <td>NaN</td>\n",
       "      <td>NaN</td>\n",
       "      <td>NaN</td>\n",
       "      <td>,,,,,</td>\n",
       "      <td>,,,,</td>\n",
       "    </tr>\n",
       "  </tbody>\n",
       "</table>\n",
       "</div>"
      ],
      "text/plain": [
       "    Company Job Title Location Job Type Experience level Salary  \\\n",
       "797     NaN       NaN      NaN      NaN              NaN    NaN   \n",
       "\n",
       "    Requirment of the company  Facilities  \n",
       "797                      ,,,,,       ,,,,  "
      ]
     },
     "execution_count": 39,
     "metadata": {},
     "output_type": "execute_result"
    }
   ],
   "source": [
    "data.loc[data[\"Company\"].isna()]\n"
   ]
  },
  {
   "cell_type": "markdown",
   "id": "824106ed",
   "metadata": {},
   "source": [
    "### La ligne n'a aucune information qui soit utile. Nous allons donc la supprimer"
   ]
  },
  {
   "cell_type": "code",
   "execution_count": 40,
   "id": "68479c6c",
   "metadata": {},
   "outputs": [
    {
     "data": {
      "text/html": [
       "<div>\n",
       "<style scoped>\n",
       "    .dataframe tbody tr th:only-of-type {\n",
       "        vertical-align: middle;\n",
       "    }\n",
       "\n",
       "    .dataframe tbody tr th {\n",
       "        vertical-align: top;\n",
       "    }\n",
       "\n",
       "    .dataframe thead th {\n",
       "        text-align: right;\n",
       "    }\n",
       "</style>\n",
       "<table border=\"1\" class=\"dataframe\">\n",
       "  <thead>\n",
       "    <tr style=\"text-align: right;\">\n",
       "      <th></th>\n",
       "      <th>Company</th>\n",
       "      <th>Job Title</th>\n",
       "      <th>Location</th>\n",
       "      <th>Job Type</th>\n",
       "      <th>Experience level</th>\n",
       "      <th>Salary</th>\n",
       "      <th>Requirment of the company</th>\n",
       "      <th>Facilities</th>\n",
       "    </tr>\n",
       "  </thead>\n",
       "  <tbody>\n",
       "  </tbody>\n",
       "</table>\n",
       "</div>"
      ],
      "text/plain": [
       "Empty DataFrame\n",
       "Columns: [Company, Job Title, Location, Job Type, Experience level, Salary, Requirment of the company , Facilities]\n",
       "Index: []"
      ]
     },
     "execution_count": 40,
     "metadata": {},
     "output_type": "execute_result"
    }
   ],
   "source": [
    "# Supprimer les lignes où \"Company\" est NaN et mettre à jour le DataFrame data\n",
    "data.dropna(subset=[\"Company\"], inplace=True)\n",
    "\n",
    "# Vérification\n",
    "data.loc[data[\"Company\"].isna()]\n"
   ]
  },
  {
   "cell_type": "markdown",
   "id": "52e59cf9",
   "metadata": {},
   "source": [
    "La ligne ligne a bien été supprimée. Passons à la colonne Job Tile"
   ]
  },
  {
   "cell_type": "code",
   "execution_count": null,
   "id": "241916b8",
   "metadata": {},
   "outputs": [],
   "source": []
  }
 ],
 "metadata": {
  "kernelspec": {
   "display_name": "Python 3 (ipykernel)",
   "language": "python",
   "name": "python3"
  },
  "language_info": {
   "codemirror_mode": {
    "name": "ipython",
    "version": 3
   },
   "file_extension": ".py",
   "mimetype": "text/x-python",
   "name": "python",
   "nbconvert_exporter": "python",
   "pygments_lexer": "ipython3",
   "version": "3.10.9"
  },
  "vp": {
   "vp_config_version": "1.0.0",
   "vp_menu_width": 273,
   "vp_note_display": false,
   "vp_note_width": 0,
   "vp_position": {
    "width": 278
   },
   "vp_section_display": false,
   "vp_signature": "VisualPython"
  }
 },
 "nbformat": 4,
 "nbformat_minor": 5
}
