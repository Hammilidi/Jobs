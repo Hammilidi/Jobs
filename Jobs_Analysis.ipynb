{
 "cells": [
  {
   "cell_type": "code",
   "execution_count": 21,
   "id": "a586a8d2",
   "metadata": {},
   "outputs": [
    {
     "name": "stdout",
     "output_type": "stream",
     "text": [
      "Requirement already satisfied: tabulate in c:\\users\\youcode\\anaconda3\\lib\\site-packages (0.8.10)\n"
     ]
    }
   ],
   "source": [
    "!pip install tabulate"
   ]
  },
  {
   "cell_type": "code",
   "execution_count": 25,
   "id": "a6410c1c",
   "metadata": {},
   "outputs": [
    {
     "name": "stdout",
     "output_type": "stream",
     "text": [
      "Collecting scikit-learn\n",
      "  Downloading scikit_learn-1.3.0-cp311-cp311-win_amd64.whl (9.2 MB)\n",
      "     ---------------------------------------- 0.0/9.2 MB ? eta -:--:--\n",
      "     ---------------------------------------- 0.1/9.2 MB 3.2 MB/s eta 0:00:03\n",
      "     - -------------------------------------- 0.3/9.2 MB 3.5 MB/s eta 0:00:03\n",
      "     - -------------------------------------- 0.3/9.2 MB 2.7 MB/s eta 0:00:04\n",
      "     - -------------------------------------- 0.4/9.2 MB 2.4 MB/s eta 0:00:04\n",
      "     -- ------------------------------------- 0.5/9.2 MB 2.2 MB/s eta 0:00:04\n",
      "     --- ------------------------------------ 0.7/9.2 MB 2.7 MB/s eta 0:00:04\n",
      "     ---- ----------------------------------- 0.9/9.2 MB 2.9 MB/s eta 0:00:03\n",
      "     ---- ----------------------------------- 1.0/9.2 MB 2.7 MB/s eta 0:00:04\n",
      "     ----- ---------------------------------- 1.2/9.2 MB 3.0 MB/s eta 0:00:03\n",
      "     ------ --------------------------------- 1.4/9.2 MB 3.2 MB/s eta 0:00:03\n",
      "     ------- -------------------------------- 1.6/9.2 MB 3.3 MB/s eta 0:00:03\n",
      "     -------- ------------------------------- 1.9/9.2 MB 3.4 MB/s eta 0:00:03\n",
      "     -------- ------------------------------- 2.0/9.2 MB 3.4 MB/s eta 0:00:03\n",
      "     --------- ------------------------------ 2.1/9.2 MB 3.4 MB/s eta 0:00:03\n",
      "     --------- ------------------------------ 2.2/9.2 MB 3.2 MB/s eta 0:00:03\n",
      "     ---------- ----------------------------- 2.3/9.2 MB 3.3 MB/s eta 0:00:03\n",
      "     ---------- ----------------------------- 2.4/9.2 MB 3.1 MB/s eta 0:00:03\n",
      "     ---------- ----------------------------- 2.5/9.2 MB 3.0 MB/s eta 0:00:03\n",
      "     ----------- ---------------------------- 2.5/9.2 MB 2.9 MB/s eta 0:00:03\n",
      "     ----------- ---------------------------- 2.6/9.2 MB 2.8 MB/s eta 0:00:03\n",
      "     ----------- ---------------------------- 2.7/9.2 MB 2.7 MB/s eta 0:00:03\n",
      "     ----------- ---------------------------- 2.7/9.2 MB 2.7 MB/s eta 0:00:03\n",
      "     ------------ --------------------------- 2.8/9.2 MB 2.7 MB/s eta 0:00:03\n",
      "     ------------ --------------------------- 2.8/9.2 MB 2.6 MB/s eta 0:00:03\n",
      "     ------------ --------------------------- 2.9/9.2 MB 2.5 MB/s eta 0:00:03\n",
      "     ------------ --------------------------- 3.0/9.2 MB 2.5 MB/s eta 0:00:03\n",
      "     ------------- -------------------------- 3.0/9.2 MB 2.5 MB/s eta 0:00:03\n",
      "     ------------- -------------------------- 3.1/9.2 MB 2.4 MB/s eta 0:00:03\n",
      "     ------------- -------------------------- 3.2/9.2 MB 2.4 MB/s eta 0:00:03\n",
      "     -------------- ------------------------- 3.3/9.2 MB 2.4 MB/s eta 0:00:03\n",
      "     -------------- ------------------------- 3.3/9.2 MB 2.3 MB/s eta 0:00:03\n",
      "     -------------- ------------------------- 3.4/9.2 MB 2.3 MB/s eta 0:00:03\n",
      "     --------------- ------------------------ 3.5/9.2 MB 2.3 MB/s eta 0:00:03\n",
      "     --------------- ------------------------ 3.6/9.2 MB 2.3 MB/s eta 0:00:03\n",
      "     --------------- ------------------------ 3.7/9.2 MB 2.3 MB/s eta 0:00:03\n",
      "     ---------------- ----------------------- 3.7/9.2 MB 2.3 MB/s eta 0:00:03\n",
      "     ---------------- ----------------------- 3.9/9.2 MB 2.3 MB/s eta 0:00:03\n",
      "     ----------------- ---------------------- 3.9/9.2 MB 2.2 MB/s eta 0:00:03\n",
      "     ----------------- ---------------------- 4.0/9.2 MB 2.2 MB/s eta 0:00:03\n",
      "     ----------------- ---------------------- 4.1/9.2 MB 2.2 MB/s eta 0:00:03\n",
      "     ------------------ --------------------- 4.2/9.2 MB 2.2 MB/s eta 0:00:03\n",
      "     ------------------ --------------------- 4.3/9.2 MB 2.2 MB/s eta 0:00:03\n",
      "     ------------------- -------------------- 4.4/9.2 MB 2.2 MB/s eta 0:00:03\n",
      "     ------------------- -------------------- 4.5/9.2 MB 2.2 MB/s eta 0:00:03\n",
      "     -------------------- ------------------- 4.6/9.2 MB 2.2 MB/s eta 0:00:03\n",
      "     -------------------- ------------------- 4.7/9.2 MB 2.2 MB/s eta 0:00:03\n",
      "     --------------------- ------------------ 4.8/9.2 MB 2.2 MB/s eta 0:00:02\n",
      "     --------------------- ------------------ 4.9/9.2 MB 2.2 MB/s eta 0:00:02\n",
      "     ---------------------- ----------------- 5.1/9.2 MB 2.2 MB/s eta 0:00:02\n",
      "     ---------------------- ----------------- 5.2/9.2 MB 2.2 MB/s eta 0:00:02\n",
      "     ----------------------- ---------------- 5.3/9.2 MB 2.2 MB/s eta 0:00:02\n",
      "     ----------------------- ---------------- 5.4/9.2 MB 2.2 MB/s eta 0:00:02\n",
      "     ------------------------ --------------- 5.6/9.2 MB 2.3 MB/s eta 0:00:02\n",
      "     ------------------------ --------------- 5.7/9.2 MB 2.3 MB/s eta 0:00:02\n",
      "     ------------------------- -------------- 5.8/9.2 MB 2.3 MB/s eta 0:00:02\n",
      "     ------------------------- -------------- 5.9/9.2 MB 2.3 MB/s eta 0:00:02\n",
      "     -------------------------- ------------- 6.1/9.2 MB 2.3 MB/s eta 0:00:02\n",
      "     -------------------------- ------------- 6.2/9.2 MB 2.3 MB/s eta 0:00:02\n",
      "     --------------------------- ------------ 6.3/9.2 MB 2.3 MB/s eta 0:00:02\n",
      "     ---------------------------- ----------- 6.4/9.2 MB 2.3 MB/s eta 0:00:02\n",
      "     ---------------------------- ----------- 6.6/9.2 MB 2.3 MB/s eta 0:00:02\n",
      "     ----------------------------- ---------- 6.7/9.2 MB 2.3 MB/s eta 0:00:02\n",
      "     ----------------------------- ---------- 6.8/9.2 MB 2.3 MB/s eta 0:00:02\n",
      "     ------------------------------ --------- 7.0/9.2 MB 2.3 MB/s eta 0:00:01\n",
      "     ------------------------------- -------- 7.1/9.2 MB 2.4 MB/s eta 0:00:01\n",
      "     ------------------------------- -------- 7.3/9.2 MB 2.4 MB/s eta 0:00:01\n",
      "     -------------------------------- ------- 7.4/9.2 MB 2.4 MB/s eta 0:00:01\n",
      "     -------------------------------- ------- 7.6/9.2 MB 2.4 MB/s eta 0:00:01\n",
      "     --------------------------------- ------ 7.7/9.2 MB 2.4 MB/s eta 0:00:01\n",
      "     ---------------------------------- ----- 7.9/9.2 MB 2.4 MB/s eta 0:00:01\n",
      "     ---------------------------------- ----- 8.0/9.2 MB 2.4 MB/s eta 0:00:01\n",
      "     ----------------------------------- ---- 8.2/9.2 MB 2.4 MB/s eta 0:00:01\n",
      "     ------------------------------------ --- 8.4/9.2 MB 2.5 MB/s eta 0:00:01\n",
      "     ------------------------------------- -- 8.5/9.2 MB 2.5 MB/s eta 0:00:01\n",
      "     ------------------------------------- -- 8.7/9.2 MB 2.5 MB/s eta 0:00:01\n",
      "     -------------------------------------- - 8.8/9.2 MB 2.5 MB/s eta 0:00:01\n",
      "     ---------------------------------------  9.0/9.2 MB 2.5 MB/s eta 0:00:01\n",
      "     ---------------------------------------  9.2/9.2 MB 2.5 MB/s eta 0:00:01\n",
      "     ---------------------------------------- 9.2/9.2 MB 2.5 MB/s eta 0:00:00\n",
      "Requirement already satisfied: numpy>=1.17.3 in c:\\users\\youcode\\anaconda3\\envs\\venv\\lib\\site-packages (from scikit-learn) (1.24.3)\n",
      "Requirement already satisfied: scipy>=1.5.0 in c:\\users\\youcode\\anaconda3\\envs\\venv\\lib\\site-packages (from scikit-learn) (1.11.1)\n",
      "Collecting joblib>=1.1.1\n",
      "  Downloading joblib-1.3.1-py3-none-any.whl (301 kB)\n",
      "     ---------------------------------------- 0.0/302.0 kB ? eta -:--:--\n",
      "     ------------------------ ------------- 194.6/302.0 kB 3.9 MB/s eta 0:00:01\n",
      "     -------------------------------------- 302.0/302.0 kB 3.7 MB/s eta 0:00:00\n",
      "Collecting threadpoolctl>=2.0.0\n",
      "  Downloading threadpoolctl-3.2.0-py3-none-any.whl (15 kB)\n",
      "Installing collected packages: threadpoolctl, joblib, scikit-learn\n",
      "Successfully installed joblib-1.3.1 scikit-learn-1.3.0 threadpoolctl-3.2.0\n"
     ]
    }
   ],
   "source": [
    "!pip install scikit-learn\n"
   ]
  },
  {
   "cell_type": "code",
   "execution_count": 1,
   "id": "364f6249",
   "metadata": {},
   "outputs": [],
   "source": [
    "import pandas as pd\n",
    "import numpy as np\n",
    "import matplotlib.pyplot as plt\n",
    "import seaborn as sns"
   ]
  },
  {
   "cell_type": "markdown",
   "id": "b02128be",
   "metadata": {},
   "source": [
    "# Exploration & Compréhension"
   ]
  },
  {
   "cell_type": "code",
   "execution_count": 2,
   "id": "17701abe",
   "metadata": {},
   "outputs": [
    {
     "data": {
      "text/html": [
       "<div>\n",
       "<style scoped>\n",
       "    .dataframe tbody tr th:only-of-type {\n",
       "        vertical-align: middle;\n",
       "    }\n",
       "\n",
       "    .dataframe tbody tr th {\n",
       "        vertical-align: top;\n",
       "    }\n",
       "\n",
       "    .dataframe thead th {\n",
       "        text-align: right;\n",
       "    }\n",
       "</style>\n",
       "<table border=\"1\" class=\"dataframe\">\n",
       "  <thead>\n",
       "    <tr style=\"text-align: right;\">\n",
       "      <th></th>\n",
       "      <th>Company</th>\n",
       "      <th>Job Title</th>\n",
       "      <th>Location</th>\n",
       "      <th>Job Type</th>\n",
       "      <th>Experience level</th>\n",
       "      <th>Salary</th>\n",
       "      <th>Requirment of the company</th>\n",
       "      <th>Facilities</th>\n",
       "    </tr>\n",
       "  </thead>\n",
       "  <tbody>\n",
       "    <tr>\n",
       "      <th>0</th>\n",
       "      <td>SGS</td>\n",
       "      <td>Clinical Data Analyst</td>\n",
       "      <td>Richardson, TX, United States</td>\n",
       "      <td>Full Time</td>\n",
       "      <td>Entry-level</td>\n",
       "      <td>48K+ *</td>\n",
       "      <td>Computer Science,Data quality,Genetics,Mathema...</td>\n",
       "      <td>,,,,</td>\n",
       "    </tr>\n",
       "    <tr>\n",
       "      <th>1</th>\n",
       "      <td>Ocorian</td>\n",
       "      <td>AML/CFT &amp; Data Analyst</td>\n",
       "      <td>Ebène, Mauritius</td>\n",
       "      <td>Full Time</td>\n",
       "      <td>Entry-level</td>\n",
       "      <td>48K+ *</td>\n",
       "      <td>Agile,Data management,Finance,Security,,</td>\n",
       "      <td>,,,,</td>\n",
       "    </tr>\n",
       "    <tr>\n",
       "      <th>2</th>\n",
       "      <td>Cricut</td>\n",
       "      <td>Machine Learning Engineer</td>\n",
       "      <td>South Jordan, UT, United States</td>\n",
       "      <td>Full Time</td>\n",
       "      <td>NaN</td>\n",
       "      <td>90K+ *</td>\n",
       "      <td>Agile,Architecture,AWS,Computer Science,Comput...</td>\n",
       "      <td>Career development,,,,</td>\n",
       "    </tr>\n",
       "    <tr>\n",
       "      <th>3</th>\n",
       "      <td>Bosch Group</td>\n",
       "      <td>Application Developer &amp; Data Analyst</td>\n",
       "      <td>Nonantola, Italy</td>\n",
       "      <td>Full Time</td>\n",
       "      <td>Entry-level</td>\n",
       "      <td>48K+ *</td>\n",
       "      <td>Engineering,Industrial,Oracle,Power BI,R,R&amp;D</td>\n",
       "      <td>,,,,</td>\n",
       "    </tr>\n",
       "    <tr>\n",
       "      <th>4</th>\n",
       "      <td>Publicis Groupe</td>\n",
       "      <td>Data Engineer Full time (Public Sector) USA</td>\n",
       "      <td>Arlington, VA, United States</td>\n",
       "      <td>Full Time</td>\n",
       "      <td>Mid-level</td>\n",
       "      <td>108K+</td>\n",
       "      <td>AWS,Azure,Computer Science,Consulting,Dataflow...</td>\n",
       "      <td>Flex hours,Flex vacation,Parental leave,Unlimi...</td>\n",
       "    </tr>\n",
       "  </tbody>\n",
       "</table>\n",
       "</div>"
      ],
      "text/plain": [
       "           Company                                    Job Title   \n",
       "0              SGS                        Clinical Data Analyst  \\\n",
       "1          Ocorian                       AML/CFT & Data Analyst   \n",
       "2           Cricut                    Machine Learning Engineer   \n",
       "3      Bosch Group         Application Developer & Data Analyst   \n",
       "4  Publicis Groupe  Data Engineer Full time (Public Sector) USA   \n",
       "\n",
       "                          Location   Job Type Experience level   Salary   \n",
       "0    Richardson, TX, United States  Full Time      Entry-level   48K+ *  \\\n",
       "1                 Ebène, Mauritius  Full Time      Entry-level   48K+ *   \n",
       "2  South Jordan, UT, United States  Full Time              NaN   90K+ *   \n",
       "3                 Nonantola, Italy  Full Time      Entry-level   48K+ *   \n",
       "4     Arlington, VA, United States  Full Time        Mid-level    108K+   \n",
       "\n",
       "                          Requirment of the company    \n",
       "0  Computer Science,Data quality,Genetics,Mathema...  \\\n",
       "1           Agile,Data management,Finance,Security,,   \n",
       "2  Agile,Architecture,AWS,Computer Science,Comput...   \n",
       "3       Engineering,Industrial,Oracle,Power BI,R,R&D   \n",
       "4  AWS,Azure,Computer Science,Consulting,Dataflow...   \n",
       "\n",
       "                                          Facilities  \n",
       "0                                               ,,,,  \n",
       "1                                               ,,,,  \n",
       "2                             Career development,,,,  \n",
       "3                                               ,,,,  \n",
       "4  Flex hours,Flex vacation,Parental leave,Unlimi...  "
      ]
     },
     "execution_count": 2,
     "metadata": {},
     "output_type": "execute_result"
    }
   ],
   "source": [
    "data = pd.read_csv(\"jobs.csv\", encoding=\"latin-1\")\n",
    "data.head()\n"
   ]
  },
  {
   "cell_type": "code",
   "execution_count": 3,
   "id": "867d8d56",
   "metadata": {},
   "outputs": [
    {
     "data": {
      "text/plain": [
       "(3198, 8)"
      ]
     },
     "execution_count": 3,
     "metadata": {},
     "output_type": "execute_result"
    }
   ],
   "source": [
    "data.shape"
   ]
  },
  {
   "cell_type": "markdown",
   "id": "5dedc0ea",
   "metadata": {},
   "source": [
    "Nous avons un dataset de 3198 entrées et 8 champs"
   ]
  },
  {
   "cell_type": "code",
   "execution_count": 4,
   "id": "55a10692",
   "metadata": {},
   "outputs": [
    {
     "data": {
      "text/plain": [
       "Company                       object\n",
       "Job Title                     object\n",
       "Location                      object\n",
       "Job Type                      object\n",
       "Experience level              object\n",
       "Salary                        object\n",
       "Requirment of the company     object\n",
       "Facilities                    object\n",
       "dtype: object"
      ]
     },
     "execution_count": 4,
     "metadata": {},
     "output_type": "execute_result"
    }
   ],
   "source": [
    "data.dtypes"
   ]
  },
  {
   "cell_type": "markdown",
   "id": "04ff0130",
   "metadata": {},
   "source": [
    "Toutes les variables sont des objets. Bon à savoir !"
   ]
  },
  {
   "cell_type": "code",
   "execution_count": 5,
   "id": "5f40b42b",
   "metadata": {},
   "outputs": [
    {
     "name": "stdout",
     "output_type": "stream",
     "text": [
      "<class 'pandas.core.frame.DataFrame'>\n",
      "RangeIndex: 3198 entries, 0 to 3197\n",
      "Data columns (total 8 columns):\n",
      " #   Column                      Non-Null Count  Dtype \n",
      "---  ------                      --------------  ----- \n",
      " 0   Company                     3197 non-null   object\n",
      " 1   Job Title                   3197 non-null   object\n",
      " 2   Location                    3197 non-null   object\n",
      " 3   Job Type                    3197 non-null   object\n",
      " 4   Experience level            2962 non-null   object\n",
      " 5   Salary                      3009 non-null   object\n",
      " 6   Requirment of the company   3198 non-null   object\n",
      " 7   Facilities                  3198 non-null   object\n",
      "dtypes: object(8)\n",
      "memory usage: 200.0+ KB\n"
     ]
    }
   ],
   "source": [
    "data.info()"
   ]
  },
  {
   "cell_type": "markdown",
   "id": "4c2adf82",
   "metadata": {},
   "source": [
    "- Compréhension & Analyse: Nous avons 3198 entrées. \n",
    "    - Seules les colonnes \"Facilities\" et \"Requirment of company\" sont toutes bien remplies\n",
    "    - Les colonnes \"Company\", \"Job Title\", \"Location\" ont seulement une valeur manquante\n",
    "    - La colonne \"Experience level\" a 2962 entrées sur 3198. Donc près de 93% de valeurs remplies et 7% de valeurs manquantes \n",
    "    - La colonne \"Salary\" a 3009 entrées sur 3198. Donc 94% de valeurs remplies et 6% de valeurs manquantes\n",
    "    "
   ]
  },
  {
   "cell_type": "code",
   "execution_count": 6,
   "id": "ae471865",
   "metadata": {},
   "outputs": [
    {
     "data": {
      "text/html": [
       "<div>\n",
       "<style scoped>\n",
       "    .dataframe tbody tr th:only-of-type {\n",
       "        vertical-align: middle;\n",
       "    }\n",
       "\n",
       "    .dataframe tbody tr th {\n",
       "        vertical-align: top;\n",
       "    }\n",
       "\n",
       "    .dataframe thead th {\n",
       "        text-align: right;\n",
       "    }\n",
       "</style>\n",
       "<table border=\"1\" class=\"dataframe\">\n",
       "  <thead>\n",
       "    <tr style=\"text-align: right;\">\n",
       "      <th></th>\n",
       "      <th>Company</th>\n",
       "      <th>Job Title</th>\n",
       "      <th>Location</th>\n",
       "      <th>Job Type</th>\n",
       "      <th>Experience level</th>\n",
       "      <th>Salary</th>\n",
       "      <th>Requirment of the company</th>\n",
       "      <th>Facilities</th>\n",
       "    </tr>\n",
       "  </thead>\n",
       "  <tbody>\n",
       "    <tr>\n",
       "      <th>count</th>\n",
       "      <td>3197</td>\n",
       "      <td>3197</td>\n",
       "      <td>3197</td>\n",
       "      <td>3197</td>\n",
       "      <td>2962</td>\n",
       "      <td>3009</td>\n",
       "      <td>3198</td>\n",
       "      <td>3198</td>\n",
       "    </tr>\n",
       "    <tr>\n",
       "      <th>unique</th>\n",
       "      <td>1106</td>\n",
       "      <td>2138</td>\n",
       "      <td>1117</td>\n",
       "      <td>3</td>\n",
       "      <td>4</td>\n",
       "      <td>218</td>\n",
       "      <td>2600</td>\n",
       "      <td>777</td>\n",
       "    </tr>\n",
       "    <tr>\n",
       "      <th>top</th>\n",
       "      <td>Publicis Groupe</td>\n",
       "      <td>Data Engineer</td>\n",
       "      <td>Bengaluru, India</td>\n",
       "      <td>Full Time</td>\n",
       "      <td>Senior-level</td>\n",
       "      <td>115K+ *</td>\n",
       "      <td>Big Data,Business Intelligence,Data analysis,E...</td>\n",
       "      <td>,,,,</td>\n",
       "    </tr>\n",
       "    <tr>\n",
       "      <th>freq</th>\n",
       "      <td>126</td>\n",
       "      <td>105</td>\n",
       "      <td>90</td>\n",
       "      <td>3116</td>\n",
       "      <td>1876</td>\n",
       "      <td>253</td>\n",
       "      <td>12</td>\n",
       "      <td>542</td>\n",
       "    </tr>\n",
       "  </tbody>\n",
       "</table>\n",
       "</div>"
      ],
      "text/plain": [
       "                Company      Job Title          Location   Job Type   \n",
       "count              3197           3197              3197       3197  \\\n",
       "unique             1106           2138              1117          3   \n",
       "top     Publicis Groupe  Data Engineer  Bengaluru, India  Full Time   \n",
       "freq                126            105                90       3116   \n",
       "\n",
       "       Experience level    Salary   \n",
       "count              2962      3009  \\\n",
       "unique                4       218   \n",
       "top        Senior-level   115K+ *   \n",
       "freq               1876       253   \n",
       "\n",
       "                               Requirment of the company  Facilities  \n",
       "count                                                3198       3198  \n",
       "unique                                               2600        777  \n",
       "top     Big Data,Business Intelligence,Data analysis,E...       ,,,,  \n",
       "freq                                                   12        542  "
      ]
     },
     "execution_count": 6,
     "metadata": {},
     "output_type": "execute_result"
    }
   ],
   "source": [
    "# Afficher un résumé statistique du DataFrame\n",
    "summary = data.describe(include='all')\n",
    "summary\n"
   ]
  },
  {
   "cell_type": "markdown",
   "id": "07d8fa5e",
   "metadata": {},
   "source": [
    "- \"count\": Cela indique le nombre total de valeurs non manquantes (non nulles) dans chaque colonne du DataFrame. Par exemple, il y a 3197 valeurs non manquantes pour la colonne \"Company\", \"Job Title\", \"Location\", etc.\n",
    "\n",
    "- \"unique\": Cela représente le nombre d'éléments uniques dans chaque colonne du DataFrame. Par exemple, il y a 1106 entreprises uniques, 2138 titres de poste uniques, 1117 emplacements uniques, etc.\n",
    "\n",
    "- \"top\": Cela indique la valeur la plus fréquente (top) dans chaque colonne. Par exemple, \"Publicis Groupe\" est l'entreprise la plus fréquente dans la colonne \"Company\", \"Data Engineer\" est le titre de poste le plus fréquent, \"Bengaluru, India\" est le lieu le plus fréquent, etc.\n",
    "\n",
    "- \"freq\": Cela représente la fréquence (nombre d'occurrences) de la valeur la plus fréquente (top) dans chaque colonne. Par exemple, \"Publicis Groupe\" apparaît 126 fois dans la colonne \"Company\", \"Data Engineer\" apparaît 105 fois dans la colonne \"Job Title\", \"Bengaluru, India\" apparaît 90 fois dans la colonne \"Location\", etc.\n"
   ]
  },
  {
   "cell_type": "markdown",
   "id": "d380558c",
   "metadata": {},
   "source": [
    "Une remarque: Nous n'avons pas de valeurs numériques !"
   ]
  },
  {
   "cell_type": "markdown",
   "id": "8258656a",
   "metadata": {},
   "source": [
    "# Data Cleaning"
   ]
  },
  {
   "cell_type": "markdown",
   "id": "ac23d2a7",
   "metadata": {},
   "source": [
    "Cette étape consiste à nettoyer les données en corrigeant les erreurs, en supprimant les impuretés pour ne conserver que les valeurs propres, correctes, utiles et pertinentes. Nous serons amenés à:\n",
    "- Gérer les doublons\n",
    "- Gérer les valeurs manquantes\n",
    "- Gérer les valeurs abérrantes et atypiques"
   ]
  },
  {
   "cell_type": "markdown",
   "id": "73c53255",
   "metadata": {},
   "source": [
    "### Gestion des doublons"
   ]
  },
  {
   "cell_type": "code",
   "execution_count": 7,
   "id": "f880c8de",
   "metadata": {},
   "outputs": [
    {
     "data": {
      "text/plain": [
       "202"
      ]
     },
     "execution_count": 7,
     "metadata": {},
     "output_type": "execute_result"
    }
   ],
   "source": [
    "data.duplicated().sum()"
   ]
  },
  {
   "cell_type": "markdown",
   "id": "29d9d7ab",
   "metadata": {},
   "source": [
    "Nous avons 202 doublons. Nous allons les supprimer pour éviter les conflits de données."
   ]
  },
  {
   "cell_type": "code",
   "execution_count": 8,
   "id": "1310a99e",
   "metadata": {},
   "outputs": [
    {
     "data": {
      "text/plain": [
       "0"
      ]
     },
     "execution_count": 8,
     "metadata": {},
     "output_type": "execute_result"
    }
   ],
   "source": [
    "data.drop_duplicates(inplace = True)\n",
    "data.duplicated().sum()"
   ]
  },
  {
   "cell_type": "markdown",
   "id": "d62d6bfd",
   "metadata": {},
   "source": [
    "Les doublons ont bien été supprimés"
   ]
  },
  {
   "cell_type": "markdown",
   "id": "bfa9857b",
   "metadata": {},
   "source": [
    "### Gestion des valeurs manquantes"
   ]
  },
  {
   "cell_type": "code",
   "execution_count": 9,
   "id": "47ad930b",
   "metadata": {},
   "outputs": [
    {
     "name": "stdout",
     "output_type": "stream",
     "text": [
      "<class 'pandas.core.frame.DataFrame'>\n",
      "Index: 2996 entries, 0 to 3196\n",
      "Data columns (total 8 columns):\n",
      " #   Column                      Non-Null Count  Dtype \n",
      "---  ------                      --------------  ----- \n",
      " 0   Company                     2995 non-null   object\n",
      " 1   Job Title                   2995 non-null   object\n",
      " 2   Location                    2995 non-null   object\n",
      " 3   Job Type                    2995 non-null   object\n",
      " 4   Experience level            2768 non-null   object\n",
      " 5   Salary                      2824 non-null   object\n",
      " 6   Requirment of the company   2996 non-null   object\n",
      " 7   Facilities                  2996 non-null   object\n",
      "dtypes: object(8)\n",
      "memory usage: 210.7+ KB\n"
     ]
    }
   ],
   "source": [
    "data.info()"
   ]
  },
  {
   "cell_type": "markdown",
   "id": "3fbd5ce3",
   "metadata": {},
   "source": [
    "Nous avons à présent 2996 entrées.\n",
    "- Les colonnes \"Company\", \"Job Title\", \"Location\", \"Job Type\" ont 2995 entrées donc ont 01 valeur manquante.\n",
    "- La colonne \"Experience level\" possède 2768 entrées donc elle possède 228 valeurs manquantes soit environ 7,6% \n",
    "- La colonne \"Salary\" a 2824 entrées. Elle a donc 172 valeurs manquantes soit 5,7% "
   ]
  },
  {
   "cell_type": "markdown",
   "id": "6605aea9",
   "metadata": {},
   "source": [
    "### Colonne Company"
   ]
  },
  {
   "cell_type": "code",
   "execution_count": 10,
   "id": "f811e519",
   "metadata": {},
   "outputs": [
    {
     "name": "stdout",
     "output_type": "stream",
     "text": [
      "Number of missing values in 'Company' column: 1\n"
     ]
    }
   ],
   "source": [
    "missing_values_count = data[\"Company\"].isna().sum()\n",
    "print(\"Number of missing values in 'Company' column:\", missing_values_count)\n"
   ]
  },
  {
   "cell_type": "code",
   "execution_count": 11,
   "id": "2d1470bb",
   "metadata": {},
   "outputs": [
    {
     "data": {
      "text/html": [
       "<div>\n",
       "<style scoped>\n",
       "    .dataframe tbody tr th:only-of-type {\n",
       "        vertical-align: middle;\n",
       "    }\n",
       "\n",
       "    .dataframe tbody tr th {\n",
       "        vertical-align: top;\n",
       "    }\n",
       "\n",
       "    .dataframe thead th {\n",
       "        text-align: right;\n",
       "    }\n",
       "</style>\n",
       "<table border=\"1\" class=\"dataframe\">\n",
       "  <thead>\n",
       "    <tr style=\"text-align: right;\">\n",
       "      <th></th>\n",
       "      <th>Company</th>\n",
       "      <th>Job Title</th>\n",
       "      <th>Location</th>\n",
       "      <th>Job Type</th>\n",
       "      <th>Experience level</th>\n",
       "      <th>Salary</th>\n",
       "      <th>Requirment of the company</th>\n",
       "      <th>Facilities</th>\n",
       "    </tr>\n",
       "  </thead>\n",
       "  <tbody>\n",
       "    <tr>\n",
       "      <th>797</th>\n",
       "      <td>NaN</td>\n",
       "      <td>NaN</td>\n",
       "      <td>NaN</td>\n",
       "      <td>NaN</td>\n",
       "      <td>NaN</td>\n",
       "      <td>NaN</td>\n",
       "      <td>,,,,,</td>\n",
       "      <td>,,,,</td>\n",
       "    </tr>\n",
       "  </tbody>\n",
       "</table>\n",
       "</div>"
      ],
      "text/plain": [
       "    Company Job Title Location Job Type Experience level Salary   \n",
       "797     NaN       NaN      NaN      NaN              NaN    NaN  \\\n",
       "\n",
       "    Requirment of the company  Facilities  \n",
       "797                      ,,,,,       ,,,,  "
      ]
     },
     "execution_count": 11,
     "metadata": {},
     "output_type": "execute_result"
    }
   ],
   "source": [
    "data.loc[data[\"Company\"].isna()]\n"
   ]
  },
  {
   "cell_type": "markdown",
   "id": "15fca06f",
   "metadata": {},
   "source": [
    "### La ligne n'a aucune information qui soit utile. Nous allons donc la supprimer"
   ]
  },
  {
   "cell_type": "code",
   "execution_count": 12,
   "id": "708a17e7",
   "metadata": {},
   "outputs": [
    {
     "data": {
      "text/html": [
       "<div>\n",
       "<style scoped>\n",
       "    .dataframe tbody tr th:only-of-type {\n",
       "        vertical-align: middle;\n",
       "    }\n",
       "\n",
       "    .dataframe tbody tr th {\n",
       "        vertical-align: top;\n",
       "    }\n",
       "\n",
       "    .dataframe thead th {\n",
       "        text-align: right;\n",
       "    }\n",
       "</style>\n",
       "<table border=\"1\" class=\"dataframe\">\n",
       "  <thead>\n",
       "    <tr style=\"text-align: right;\">\n",
       "      <th></th>\n",
       "      <th>Company</th>\n",
       "      <th>Job Title</th>\n",
       "      <th>Location</th>\n",
       "      <th>Job Type</th>\n",
       "      <th>Experience level</th>\n",
       "      <th>Salary</th>\n",
       "      <th>Requirment of the company</th>\n",
       "      <th>Facilities</th>\n",
       "    </tr>\n",
       "  </thead>\n",
       "  <tbody>\n",
       "  </tbody>\n",
       "</table>\n",
       "</div>"
      ],
      "text/plain": [
       "Empty DataFrame\n",
       "Columns: [Company, Job Title, Location, Job Type, Experience level, Salary, Requirment of the company , Facilities]\n",
       "Index: []"
      ]
     },
     "execution_count": 12,
     "metadata": {},
     "output_type": "execute_result"
    }
   ],
   "source": [
    "# Supprimer les lignes où \"Company\" est NaN et mettre à jour le DataFrame data\n",
    "data.dropna(subset=[\"Company\"], inplace=True)\n",
    "\n",
    "# Vérification\n",
    "data.loc[data[\"Company\"].isna()]\n"
   ]
  },
  {
   "cell_type": "markdown",
   "id": "9fd403bd",
   "metadata": {},
   "source": [
    "La ligne ligne a bien été supprimée. Passons à la colonne Job Title"
   ]
  },
  {
   "cell_type": "markdown",
   "id": "fd5b4e4b",
   "metadata": {},
   "source": [
    "### Colonne Job Title"
   ]
  },
  {
   "cell_type": "code",
   "execution_count": 13,
   "id": "c6e01745",
   "metadata": {},
   "outputs": [
    {
     "data": {
      "text/plain": [
       "0"
      ]
     },
     "execution_count": 13,
     "metadata": {},
     "output_type": "execute_result"
    }
   ],
   "source": [
    "data[\"Job Title\"].isna().sum()"
   ]
  },
  {
   "cell_type": "markdown",
   "id": "e5ab6efd",
   "metadata": {},
   "source": [
    "### Colonne Location "
   ]
  },
  {
   "cell_type": "code",
   "execution_count": 14,
   "id": "dc88ed94",
   "metadata": {},
   "outputs": [
    {
     "data": {
      "text/plain": [
       "0"
      ]
     },
     "execution_count": 14,
     "metadata": {},
     "output_type": "execute_result"
    }
   ],
   "source": [
    "data[\"Location\"].isna().sum()"
   ]
  },
  {
   "cell_type": "markdown",
   "id": "93f69205",
   "metadata": {},
   "source": [
    "### Colonne Job Type"
   ]
  },
  {
   "cell_type": "code",
   "execution_count": 15,
   "id": "513d8572",
   "metadata": {},
   "outputs": [
    {
     "data": {
      "text/plain": [
       "0"
      ]
     },
     "execution_count": 15,
     "metadata": {},
     "output_type": "execute_result"
    }
   ],
   "source": [
    "data[\"Job Type\"].isna().sum()"
   ]
  },
  {
   "cell_type": "markdown",
   "id": "68aed210",
   "metadata": {},
   "source": [
    "Les valeurs manquantes des colonnes Job Type, Location,Job Title et Company étaient dans la meme entrée et la ligne est désormais supprimée.\n",
    "- Passons à la colonne Experience level"
   ]
  },
  {
   "cell_type": "markdown",
   "id": "7ad31327",
   "metadata": {},
   "source": [
    "### Experience level "
   ]
  },
  {
   "cell_type": "code",
   "execution_count": 16,
   "id": "ebc35a5e",
   "metadata": {},
   "outputs": [
    {
     "data": {
      "text/plain": [
       "227"
      ]
     },
     "execution_count": 16,
     "metadata": {},
     "output_type": "execute_result"
    }
   ],
   "source": [
    "data[\"Experience level\"].isna().sum()"
   ]
  },
  {
   "cell_type": "markdown",
   "id": "ca854d4b",
   "metadata": {},
   "source": [
    "Il y a exactement 227 valeurs manquantes. Allons-nous les supprimer ? Nous allons éviter au maximum de supprimer. Nous allons tenter une amputation. "
   ]
  },
  {
   "cell_type": "code",
   "execution_count": 17,
   "id": "28ace13b",
   "metadata": {},
   "outputs": [
    {
     "data": {
      "text/plain": [
       "0        Entry-level\n",
       "1        Entry-level\n",
       "2                NaN\n",
       "3        Entry-level\n",
       "4          Mid-level\n",
       "            ...     \n",
       "3190       Mid-level\n",
       "3191       Mid-level\n",
       "3192    Senior-level\n",
       "3193     Entry-level\n",
       "3196     Entry-level\n",
       "Name: Experience level, Length: 2995, dtype: object"
      ]
     },
     "execution_count": 17,
     "metadata": {},
     "output_type": "execute_result"
    }
   ],
   "source": [
    "data[\"Experience level\"]\n"
   ]
  },
  {
   "cell_type": "code",
   "execution_count": 18,
   "id": "ba278d0d",
   "metadata": {},
   "outputs": [
    {
     "data": {
      "text/plain": [
       "'Senior-level'"
      ]
     },
     "execution_count": 18,
     "metadata": {},
     "output_type": "execute_result"
    }
   ],
   "source": [
    "# Obtenir le nombre d'occurrences de chaque valeur unique dans la colonne \"Experience level\"\n",
    "experience_counts = data[\"Experience level\"].value_counts()\n",
    "\n",
    "# Obtenir la valeur la plus fréquente dans la colonne \"Experience level\" (en cas d'égalité, on prend la première)\n",
    "most_frequent_experience = experience_counts.idxmax()\n",
    "most_frequent_experience\n",
    "# # Remplacer les valeurs NaN par la valeur la plus fréquente dans la colonne \"Experience level\"\n",
    "# data[\"Experience level\"] = data[\"Experience level\"].fillna(most_frequent_experience)\n",
    "\n",
    "# # Afficher le nombre d'occurrences de chaque valeur unique dans la colonne \"Experience level\"\n",
    "# print(\"Nombre d'occurrences de chaque valeur unique dans la colonne 'Experience level':\")\n",
    "# print(experience_counts)\n",
    "\n",
    "# # Afficher le DataFrame mis à jour avec les valeurs NaN remplacées\n",
    "# print(\"\\nDataFrame mis à jour avec les valeurs NaN remplacées:\")\n",
    "# print(data[\"Experience level\"])\n"
   ]
  },
  {
   "cell_type": "code",
   "execution_count": 19,
   "id": "dfb34e97",
   "metadata": {},
   "outputs": [
    {
     "data": {
      "text/html": [
       "<div>\n",
       "<style scoped>\n",
       "    .dataframe tbody tr th:only-of-type {\n",
       "        vertical-align: middle;\n",
       "    }\n",
       "\n",
       "    .dataframe tbody tr th {\n",
       "        vertical-align: top;\n",
       "    }\n",
       "\n",
       "    .dataframe thead th {\n",
       "        text-align: right;\n",
       "    }\n",
       "</style>\n",
       "<table border=\"1\" class=\"dataframe\">\n",
       "  <thead>\n",
       "    <tr style=\"text-align: right;\">\n",
       "      <th></th>\n",
       "      <th>Company</th>\n",
       "      <th>Job Title</th>\n",
       "      <th>Location</th>\n",
       "      <th>Job Type</th>\n",
       "      <th>Experience level</th>\n",
       "      <th>Salary</th>\n",
       "      <th>Requirment of the company</th>\n",
       "      <th>Facilities</th>\n",
       "    </tr>\n",
       "  </thead>\n",
       "  <tbody>\n",
       "    <tr>\n",
       "      <th>2</th>\n",
       "      <td>Cricut</td>\n",
       "      <td>Machine Learning Engineer</td>\n",
       "      <td>South Jordan, UT, United States</td>\n",
       "      <td>Full Time</td>\n",
       "      <td>NaN</td>\n",
       "      <td>90K+ *</td>\n",
       "      <td>Agile,Architecture,AWS,Computer Science,Comput...</td>\n",
       "      <td>Career development,,,,</td>\n",
       "    </tr>\n",
       "    <tr>\n",
       "      <th>11</th>\n",
       "      <td>NielsenIQ</td>\n",
       "      <td>Data Analyst - Revenue Optimizer</td>\n",
       "      <td>Toronto, ON, Canada</td>\n",
       "      <td>Full Time</td>\n",
       "      <td>NaN</td>\n",
       "      <td>80K+ *</td>\n",
       "      <td>Business Analytics,Business Intelligence,Data ...</td>\n",
       "      <td>Career development,Startup environment,,,</td>\n",
       "    </tr>\n",
       "    <tr>\n",
       "      <th>18</th>\n",
       "      <td>Issuu</td>\n",
       "      <td>BI Analyst</td>\n",
       "      <td>Braga</td>\n",
       "      <td>Full Time</td>\n",
       "      <td>NaN</td>\n",
       "      <td>48K+ *</td>\n",
       "      <td>Business Analytics,Business Intelligence,Data ...</td>\n",
       "      <td>Competitive pay,Equity,Health care,Insurance,</td>\n",
       "    </tr>\n",
       "    <tr>\n",
       "      <th>36</th>\n",
       "      <td>Bosch Group</td>\n",
       "      <td>Data Science Lead (Hybrid)</td>\n",
       "      <td>Mount Prospect, IL, United States</td>\n",
       "      <td>Full Time</td>\n",
       "      <td>NaN</td>\n",
       "      <td>63K+ *</td>\n",
       "      <td>A/B testing,Data visualization,Economics,Engin...</td>\n",
       "      <td>Career development,Competitive pay,Health care,,</td>\n",
       "    </tr>\n",
       "    <tr>\n",
       "      <th>69</th>\n",
       "      <td>SSENSE</td>\n",
       "      <td>Data Analyst, Customer Experience</td>\n",
       "      <td>Montreal, QC, Canada</td>\n",
       "      <td>Full Time</td>\n",
       "      <td>NaN</td>\n",
       "      <td>80K+ *</td>\n",
       "      <td>Business Intelligence,Computer Science,CX,Data...</td>\n",
       "      <td>Career development,Startup environment,,,</td>\n",
       "    </tr>\n",
       "    <tr>\n",
       "      <th>...</th>\n",
       "      <td>...</td>\n",
       "      <td>...</td>\n",
       "      <td>...</td>\n",
       "      <td>...</td>\n",
       "      <td>...</td>\n",
       "      <td>...</td>\n",
       "      <td>...</td>\n",
       "      <td>...</td>\n",
       "    </tr>\n",
       "    <tr>\n",
       "      <th>3149</th>\n",
       "      <td>Syngenta Group</td>\n",
       "      <td>Agronomy Data Scientist (M/W) - CDI</td>\n",
       "      <td>Saint-Sauveur, France</td>\n",
       "      <td>Full Time</td>\n",
       "      <td>NaN</td>\n",
       "      <td>90K+ *</td>\n",
       "      <td>Computer Science,D3,Data analysis,Data Mining,...</td>\n",
       "      <td>Career development,,,,</td>\n",
       "    </tr>\n",
       "    <tr>\n",
       "      <th>3157</th>\n",
       "      <td>Precision for Medicine</td>\n",
       "      <td>Data Engineer</td>\n",
       "      <td>Remote, United States</td>\n",
       "      <td>Full Time</td>\n",
       "      <td>NaN</td>\n",
       "      <td>70K+</td>\n",
       "      <td>AWS,Biology,Data management,Git,Linux,MySQL</td>\n",
       "      <td>Health care,Insurance,Parental leave,Salary bo...</td>\n",
       "    </tr>\n",
       "    <tr>\n",
       "      <th>3163</th>\n",
       "      <td>Informa Group Plc.</td>\n",
       "      <td>Data Operations Engineer</td>\n",
       "      <td>Toronto, ON, Canada</td>\n",
       "      <td>Full Time</td>\n",
       "      <td>NaN</td>\n",
       "      <td>60K+ *</td>\n",
       "      <td>Agile,AWS,DataOps,Engineering,ETL,Pipelines</td>\n",
       "      <td>Career development,Flex hours,Flex vacation,He...</td>\n",
       "    </tr>\n",
       "    <tr>\n",
       "      <th>3172</th>\n",
       "      <td>Precision Medicine Group</td>\n",
       "      <td>Data Engineer</td>\n",
       "      <td>Remote, United States</td>\n",
       "      <td>Full Time</td>\n",
       "      <td>NaN</td>\n",
       "      <td>70K+</td>\n",
       "      <td>AWS,Biology,Data management,Git,Linux,MySQL</td>\n",
       "      <td>Health care,Insurance,Parental leave,Salary bo...</td>\n",
       "    </tr>\n",
       "    <tr>\n",
       "      <th>3177</th>\n",
       "      <td>MUFG Investor Services</td>\n",
       "      <td>Data Engineer (Contractor)</td>\n",
       "      <td>Limassol, Cyprus</td>\n",
       "      <td>Full Time</td>\n",
       "      <td>NaN</td>\n",
       "      <td>95K+ *</td>\n",
       "      <td>Agile,Computer Science,Engineering,ETL,Python,</td>\n",
       "      <td>Competitive pay,,,,</td>\n",
       "    </tr>\n",
       "  </tbody>\n",
       "</table>\n",
       "<p>227 rows × 8 columns</p>\n",
       "</div>"
      ],
      "text/plain": [
       "                       Company                            Job Title   \n",
       "2                       Cricut            Machine Learning Engineer  \\\n",
       "11                   NielsenIQ     Data Analyst - Revenue Optimizer   \n",
       "18                       Issuu                           BI Analyst   \n",
       "36                 Bosch Group           Data Science Lead (Hybrid)   \n",
       "69                      SSENSE    Data Analyst, Customer Experience   \n",
       "...                        ...                                  ...   \n",
       "3149            Syngenta Group  Agronomy Data Scientist (M/W) - CDI   \n",
       "3157    Precision for Medicine                        Data Engineer   \n",
       "3163        Informa Group Plc.             Data Operations Engineer   \n",
       "3172  Precision Medicine Group                        Data Engineer   \n",
       "3177    MUFG Investor Services           Data Engineer (Contractor)   \n",
       "\n",
       "                               Location   Job Type Experience level   Salary   \n",
       "2       South Jordan, UT, United States  Full Time              NaN   90K+ *  \\\n",
       "11                  Toronto, ON, Canada  Full Time              NaN   80K+ *   \n",
       "18                                Braga  Full Time              NaN   48K+ *   \n",
       "36    Mount Prospect, IL, United States  Full Time              NaN   63K+ *   \n",
       "69                 Montreal, QC, Canada  Full Time              NaN   80K+ *   \n",
       "...                                 ...        ...              ...      ...   \n",
       "3149              Saint-Sauveur, France  Full Time              NaN   90K+ *   \n",
       "3157              Remote, United States  Full Time              NaN     70K+   \n",
       "3163                Toronto, ON, Canada  Full Time              NaN   60K+ *   \n",
       "3172              Remote, United States  Full Time              NaN     70K+   \n",
       "3177                   Limassol, Cyprus  Full Time              NaN   95K+ *   \n",
       "\n",
       "                             Requirment of the company    \n",
       "2     Agile,Architecture,AWS,Computer Science,Comput...  \\\n",
       "11    Business Analytics,Business Intelligence,Data ...   \n",
       "18    Business Analytics,Business Intelligence,Data ...   \n",
       "36    A/B testing,Data visualization,Economics,Engin...   \n",
       "69    Business Intelligence,Computer Science,CX,Data...   \n",
       "...                                                 ...   \n",
       "3149  Computer Science,D3,Data analysis,Data Mining,...   \n",
       "3157        AWS,Biology,Data management,Git,Linux,MySQL   \n",
       "3163        Agile,AWS,DataOps,Engineering,ETL,Pipelines   \n",
       "3172        AWS,Biology,Data management,Git,Linux,MySQL   \n",
       "3177     Agile,Computer Science,Engineering,ETL,Python,   \n",
       "\n",
       "                                             Facilities  \n",
       "2                                Career development,,,,  \n",
       "11            Career development,Startup environment,,,  \n",
       "18        Competitive pay,Equity,Health care,Insurance,  \n",
       "36     Career development,Competitive pay,Health care,,  \n",
       "69            Career development,Startup environment,,,  \n",
       "...                                                 ...  \n",
       "3149                             Career development,,,,  \n",
       "3157  Health care,Insurance,Parental leave,Salary bo...  \n",
       "3163  Career development,Flex hours,Flex vacation,He...  \n",
       "3172  Health care,Insurance,Parental leave,Salary bo...  \n",
       "3177                                Competitive pay,,,,  \n",
       "\n",
       "[227 rows x 8 columns]"
      ]
     },
     "execution_count": 19,
     "metadata": {},
     "output_type": "execute_result"
    }
   ],
   "source": [
    "xp_level = data.loc[data[\"Experience level\"].isna()]\n",
    "xp_level"
   ]
  },
  {
   "cell_type": "code",
   "execution_count": 20,
   "id": "b7f2de85",
   "metadata": {},
   "outputs": [
    {
     "name": "stdout",
     "output_type": "stream",
     "text": [
      "0\n"
     ]
    }
   ],
   "source": [
    "import pandas as pd\n",
    "\n",
    "# Spécifiez l'encodage approprié (par exemple, \"latin-1\")\n",
    "data = pd.read_csv(\"jobs.csv\", encoding=\"latin-1\")\n",
    "\n",
    "# Remplacer les valeurs manquantes par \"No Experience\"\n",
    "data[\"Experience level\"].fillna(\"No Experience\", inplace=True)\n",
    "\n",
    "# Afficher le DataFrame mis à jour\n",
    "print(data[\"Experience level\"].isnull().sum())\n"
   ]
  },
  {
   "cell_type": "markdown",
   "id": "49b863a7",
   "metadata": {},
   "source": [
    "### Colonne Salary"
   ]
  },
  {
   "cell_type": "code",
   "execution_count": 21,
   "id": "a0218677",
   "metadata": {},
   "outputs": [
    {
     "data": {
      "text/plain": [
       "189"
      ]
     },
     "execution_count": 21,
     "metadata": {},
     "output_type": "execute_result"
    }
   ],
   "source": [
    "data[\"Salary\"].isnull().sum()"
   ]
  },
  {
   "cell_type": "markdown",
   "id": "b1a09c1e",
   "metadata": {},
   "source": [
    "Nous avons 189 entrées manquantes dans la colonne Salary. Nous allons tenter une imputation. Pour le moment, nous allons remplacer les valeurs manquantes par \"No Salary\""
   ]
  },
  {
   "cell_type": "code",
   "execution_count": 22,
   "id": "871090dc",
   "metadata": {},
   "outputs": [
    {
     "name": "stdout",
     "output_type": "stream",
     "text": [
      "0\n"
     ]
    }
   ],
   "source": [
    "data[\"Salary\"].fillna(\"No Salary\", inplace = True)\n",
    "print(data[\"Salary\"].isnull().sum())"
   ]
  },
  {
   "cell_type": "markdown",
   "id": "e69e5439",
   "metadata": {},
   "source": [
    "Il n'existe plus de valeurs manquantes "
   ]
  },
  {
   "cell_type": "markdown",
   "id": "7326d5a0",
   "metadata": {},
   "source": [
    "#### Gestion de valeurs manquantes terminées !"
   ]
  },
  {
   "cell_type": "markdown",
   "id": "7a4dec58",
   "metadata": {},
   "source": [
    "## Gestion des valeurs Abérrantes"
   ]
  },
  {
   "cell_type": "code",
   "execution_count": null,
   "id": "527fc582",
   "metadata": {},
   "outputs": [],
   "source": []
  }
 ],
 "metadata": {
  "kernelspec": {
   "display_name": "Python 3 (ipykernel)",
   "language": "python",
   "name": "python3"
  },
  "language_info": {
   "codemirror_mode": {
    "name": "ipython",
    "version": 3
   },
   "file_extension": ".py",
   "mimetype": "text/x-python",
   "name": "python",
   "nbconvert_exporter": "python",
   "pygments_lexer": "ipython3",
   "version": "3.11.3"
  },
  "vp": {
   "vp_config_version": "1.0.0",
   "vp_menu_width": 273,
   "vp_note_display": false,
   "vp_note_width": 0,
   "vp_position": {
    "width": 278
   },
   "vp_section_display": false,
   "vp_signature": "VisualPython"
  }
 },
 "nbformat": 4,
 "nbformat_minor": 5
}
